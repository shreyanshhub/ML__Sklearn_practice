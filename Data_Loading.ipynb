{
  "nbformat": 4,
  "nbformat_minor": 0,
  "metadata": {
    "colab": {
      "provenance": [],
      "authorship_tag": "ABX9TyPfTPAyFJNvRCJwTxXx6wTb",
      "include_colab_link": true
    },
    "kernelspec": {
      "name": "python3",
      "display_name": "Python 3"
    },
    "language_info": {
      "name": "python"
    }
  },
  "cells": [
    {
      "cell_type": "markdown",
      "metadata": {
        "id": "view-in-github",
        "colab_type": "text"
      },
      "source": [
        "<a href=\"https://colab.research.google.com/github/shreyanshhub/ML__Sklearn_practice/blob/main/Data_Loading.ipynb\" target=\"_parent\"><img src=\"https://colab.research.google.com/assets/colab-badge.svg\" alt=\"Open In Colab\"/></a>"
      ]
    },
    {
      "cell_type": "markdown",
      "source": [
        "#Loading Data"
      ],
      "metadata": {
        "id": "xJwsykHVkQK0"
      }
    },
    {
      "cell_type": "markdown",
      "source": [
        "1. `load_*` : load small std datasets bundled with sklearn\n",
        "2. `fetch_*` : fetch large datasets from internet\n",
        "3.`generate_*` : generate controlled synthetic datasets"
      ],
      "metadata": {
        "id": "KiA4hPOxjzi3"
      }
    },
    {
      "cell_type": "markdown",
      "source": [
        "#Iris Dataset"
      ],
      "metadata": {
        "id": "KHUwkt-okUXA"
      }
    },
    {
      "cell_type": "code",
      "execution_count": 1,
      "metadata": {
        "id": "1iKg0cTUjXuC"
      },
      "outputs": [],
      "source": [
        "from sklearn.datasets import load_iris\n",
        "data = load_iris()"
      ]
    },
    {
      "cell_type": "markdown",
      "source": [
        "Attributes in the variable `data`:\n",
        "\n",
        "\n",
        "\n",
        "*   `data`: feature matrix\n",
        "*   `target`: label vector\n",
        "*   `feature_names`: name of features\n",
        "*   `target_names`: names of classes\n",
        "*   `DESCR` : full description of dataset\n",
        "*   `filename` : location path\n",
        "\n"
      ],
      "metadata": {
        "id": "OzKtcom3kiPs"
      }
    },
    {
      "cell_type": "code",
      "source": [
        "type(data)"
      ],
      "metadata": {
        "colab": {
          "base_uri": "https://localhost:8080/"
        },
        "id": "6LH1MKf_lOtF",
        "outputId": "81175cb0-89de-4d45-d6fd-adf6eddd3b3e"
      },
      "execution_count": 2,
      "outputs": [
        {
          "output_type": "execute_result",
          "data": {
            "text/plain": [
              "sklearn.utils._bunch.Bunch"
            ]
          },
          "metadata": {},
          "execution_count": 2
        }
      ]
    },
    {
      "cell_type": "code",
      "source": [
        "data.feature_names"
      ],
      "metadata": {
        "colab": {
          "base_uri": "https://localhost:8080/"
        },
        "id": "cmPJzvRZlSOX",
        "outputId": "668a86b0-238a-4635-861b-06146603a8eb"
      },
      "execution_count": 3,
      "outputs": [
        {
          "output_type": "execute_result",
          "data": {
            "text/plain": [
              "['sepal length (cm)',\n",
              " 'sepal width (cm)',\n",
              " 'petal length (cm)',\n",
              " 'petal width (cm)']"
            ]
          },
          "metadata": {},
          "execution_count": 3
        }
      ]
    },
    {
      "cell_type": "code",
      "source": [
        "data.target_names"
      ],
      "metadata": {
        "colab": {
          "base_uri": "https://localhost:8080/"
        },
        "id": "K-r3PLL1lV84",
        "outputId": "94907320-e3a0-4310-afd0-dac644f6eb0e"
      },
      "execution_count": 4,
      "outputs": [
        {
          "output_type": "execute_result",
          "data": {
            "text/plain": [
              "array(['setosa', 'versicolor', 'virginica'], dtype='<U10')"
            ]
          },
          "metadata": {},
          "execution_count": 4
        }
      ]
    },
    {
      "cell_type": "code",
      "source": [
        "data.data[:3]"
      ],
      "metadata": {
        "colab": {
          "base_uri": "https://localhost:8080/"
        },
        "id": "GJzvZUu8lZIp",
        "outputId": "a22105a6-e064-4fde-e249-bf8fadf43be7"
      },
      "execution_count": 5,
      "outputs": [
        {
          "output_type": "execute_result",
          "data": {
            "text/plain": [
              "array([[5.1, 3.5, 1.4, 0.2],\n",
              "       [4.9, 3. , 1.4, 0.2],\n",
              "       [4.7, 3.2, 1.3, 0.2]])"
            ]
          },
          "metadata": {},
          "execution_count": 5
        }
      ]
    },
    {
      "cell_type": "markdown",
      "source": [],
      "metadata": {
        "id": "fHYrPDD2l0Vz"
      }
    },
    {
      "cell_type": "markdown",
      "source": [
        "It simply means that there are 4 features in the data set"
      ],
      "metadata": {
        "id": "sQOWiM-kloJb"
      }
    },
    {
      "cell_type": "code",
      "source": [
        "data.data.shape"
      ],
      "metadata": {
        "colab": {
          "base_uri": "https://localhost:8080/"
        },
        "id": "f0UWTYetluEp",
        "outputId": "7ce8b985-6e92-408f-98ec-83bf1b35d5ab"
      },
      "execution_count": 6,
      "outputs": [
        {
          "output_type": "execute_result",
          "data": {
            "text/plain": [
              "(150, 4)"
            ]
          },
          "metadata": {},
          "execution_count": 6
        }
      ]
    },
    {
      "cell_type": "markdown",
      "source": [
        "150 samples with 4 features each"
      ],
      "metadata": {
        "id": "wBYBMBcXlxJ4"
      }
    },
    {
      "cell_type": "code",
      "source": [
        "data.target"
      ],
      "metadata": {
        "colab": {
          "base_uri": "https://localhost:8080/"
        },
        "id": "13KSXPJGl-oC",
        "outputId": "ed112f39-0765-44af-af55-19713555abeb"
      },
      "execution_count": 7,
      "outputs": [
        {
          "output_type": "execute_result",
          "data": {
            "text/plain": [
              "array([0, 0, 0, 0, 0, 0, 0, 0, 0, 0, 0, 0, 0, 0, 0, 0, 0, 0, 0, 0, 0, 0,\n",
              "       0, 0, 0, 0, 0, 0, 0, 0, 0, 0, 0, 0, 0, 0, 0, 0, 0, 0, 0, 0, 0, 0,\n",
              "       0, 0, 0, 0, 0, 0, 1, 1, 1, 1, 1, 1, 1, 1, 1, 1, 1, 1, 1, 1, 1, 1,\n",
              "       1, 1, 1, 1, 1, 1, 1, 1, 1, 1, 1, 1, 1, 1, 1, 1, 1, 1, 1, 1, 1, 1,\n",
              "       1, 1, 1, 1, 1, 1, 1, 1, 1, 1, 1, 1, 2, 2, 2, 2, 2, 2, 2, 2, 2, 2,\n",
              "       2, 2, 2, 2, 2, 2, 2, 2, 2, 2, 2, 2, 2, 2, 2, 2, 2, 2, 2, 2, 2, 2,\n",
              "       2, 2, 2, 2, 2, 2, 2, 2, 2, 2, 2, 2, 2, 2, 2, 2, 2, 2])"
            ]
          },
          "metadata": {},
          "execution_count": 7
        }
      ]
    },
    {
      "cell_type": "code",
      "source": [
        "?load_iris"
      ],
      "metadata": {
        "id": "mJfv63lZmBuW"
      },
      "execution_count": 9,
      "outputs": []
    },
    {
      "cell_type": "markdown",
      "source": [
        "adding `return_X_y=True` returns a tuple of 2 ndarray , first a 2D array of shape (n_samples,n_features),second array of shape (n_samples,)"
      ],
      "metadata": {
        "id": "jwdWTjsgmdCk"
      }
    },
    {
      "cell_type": "code",
      "source": [
        "feature_matrix,label_vector = load_iris(return_X_y=True)\n",
        "feature_matrix.shape\n",
        "label_vector.shape"
      ],
      "metadata": {
        "colab": {
          "base_uri": "https://localhost:8080/"
        },
        "id": "DHp0ffpFolZ4",
        "outputId": "3c38e501-2404-4ddb-fa34-2e7a3c21e174"
      },
      "execution_count": 12,
      "outputs": [
        {
          "output_type": "execute_result",
          "data": {
            "text/plain": [
              "(150,)"
            ]
          },
          "metadata": {},
          "execution_count": 12
        }
      ]
    }
  ]
}